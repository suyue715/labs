{
 "cells": [
  {
   "cell_type": "markdown",
   "metadata": {},
   "source": [
    "<img src=\"http://imgur.com/1ZcRyrc.png\" style=\"float: left; margin: 20px; height: 55px\">\n",
    "\n",
    "## Practice Python Functions\n",
    "\n",
    "_Author: Ryan Dunlap | DSI-SF_\n",
    "\n",
    "---"
   ]
  },
  {
   "cell_type": "markdown",
   "metadata": {},
   "source": [
    "### Resources - Potentially Helpful Functions\n",
    "\n",
    "* [Dictionary Comprehension](https://docs.python.org/2/tutorial/datastructures.html#dictionaries)\n",
    "* [Enumerate](https://docs.python.org/2/library/functions.html#enumerate)\n",
    "* [Length](https://docs.python.org/2/library/functions.html#len)\n",
    "* [Int](https://docs.python.org/2/library/functions.html#int)\n",
    "* [List](https://docs.python.org/2/library/functions.html#list)"
   ]
  },
  {
   "cell_type": "markdown",
   "metadata": {},
   "source": [
    "Now-a-days, most of the components of the `String` module are already built into python however, it still has several [constant values](https://docs.python.org/2/library/string.html#string-constants) which can be useful, such as:\n",
    "```python\n",
    "string.ascii_uppercase\n",
    "```"
   ]
  },
  {
   "cell_type": "code",
   "execution_count": 1,
   "metadata": {
    "collapsed": false
   },
   "outputs": [
    {
     "data": {
      "text/plain": [
       "'ABCDEFGHIJKLMNOPQRSTUVWXYZ'"
      ]
     },
     "execution_count": 1,
     "metadata": {},
     "output_type": "execute_result"
    }
   ],
   "source": [
    "import string\n",
    "\n",
    "string.ascii_uppercase"
   ]
  },
  {
   "cell_type": "markdown",
   "metadata": {},
   "source": [
    "---\n",
    "\n",
    "### 1. Write a function that takes the length of a side of a square as an argument and returns the area of the square."
   ]
  },
  {
   "cell_type": "code",
   "execution_count": 11,
   "metadata": {
    "collapsed": false
   },
   "outputs": [
    {
     "name": "stdout",
     "output_type": "stream",
     "text": [
      "36\n"
     ]
    }
   ],
   "source": [
    "\n",
    "\n",
    "def sq_area(side):\n",
    "    sq_area= side*side\n",
    "    print(sq_area)\n",
    "sq_area(6)\n",
    "    "
   ]
  },
  {
   "cell_type": "markdown",
   "metadata": {},
   "source": [
    "---\n",
    "\n",
    "### 2. Write a function that takes the base and height of a triangle and returns the area."
   ]
  },
  {
   "cell_type": "code",
   "execution_count": 13,
   "metadata": {
    "collapsed": false
   },
   "outputs": [
    {
     "name": "stdout",
     "output_type": "stream",
     "text": [
      "4.0\n"
     ]
    }
   ],
   "source": [
    "def tri_area(base,height):\n",
    "    tri_area=base*height/2\n",
    "    print(tri_area)\n",
    "tri_area(2,4)"
   ]
  },
  {
   "cell_type": "markdown",
   "metadata": {},
   "source": [
    "---\n",
    "\n",
    "### 3. Write a function that takes a string as an argument and returns a dictionary of each character with its corresponding count:\n",
    "For example, `count_letters(\"General Assembly\")` returns the following dictionary:\n",
    "```python\n",
    "{'e': 3, 'l': 2, 's': 2, 'G': 1, 'n': 1, 'r': 1, 'a': 1, ' ': 1, 'A': 1, 'm': 1, 'b': 1, 'y': 1}\n",
    "```\n",
    "\n",
    "Note the space is in the dictionary, and that capital and lower case letters are counted separately.\n",
    "\n",
    "Hint: You can run a for loop on a string:\n",
    "```python\n",
    "for letter in \"General Assembly\":\n",
    "    print(letter)\n",
    "```"
   ]
  },
  {
   "cell_type": "code",
   "execution_count": 143,
   "metadata": {
    "collapsed": false
   },
   "outputs": [
    {
     "name": "stdout",
     "output_type": "stream",
     "text": [
      "{'h': 5, 'e': 2, 'l': 2, 'o': 1}\n"
     ]
    }
   ],
   "source": [
    "def count_letters(string):\n",
    "    letters={}\n",
    "    string=string.lower()\n",
    "    for l in string:\n",
    "        if l not in letters:\n",
    "            letters[l]=1\n",
    "        else:\n",
    "            letters[l]+=1\n",
    "    print(letters)\n",
    "count_letters('hHHhheello')"
   ]
  },
  {
   "cell_type": "markdown",
   "metadata": {},
   "source": [
    "---\n",
    "\n",
    "### 4. Write a function that takes two integers, passed as strings, and returns the sum, difference, and product as a tuple (all values as integers)."
   ]
  },
  {
   "cell_type": "code",
   "execution_count": 40,
   "metadata": {
    "collapsed": false
   },
   "outputs": [
    {
     "name": "stdout",
     "output_type": "stream",
     "text": [
      "(6, -2, 8)\n"
     ]
    }
   ],
   "source": [
    "def two_num(num1,num2):\n",
    "    summ=num1+num2\n",
    "    diff=num1-num2\n",
    "    product=num1*num2\n",
    "    my_tup=(summ,diff,product)\n",
    "    print(my_tup)\n",
    "two_num(2,4)"
   ]
  },
  {
   "cell_type": "markdown",
   "metadata": {},
   "source": [
    "---\n",
    "\n",
    "### 5. Write a function that takes a list as the argument and returns a tuple consisting of two elements:\n",
    "- **A list with the items in reverse order.**  \n",
    "- **A list of the items in the original list that have an odd index.**"
   ]
  },
  {
   "cell_type": "code",
   "execution_count": 144,
   "metadata": {
    "collapsed": false
   },
   "outputs": [
    {
     "name": "stdout",
     "output_type": "stream",
     "text": [
      "([9, 8, 7, 6, 1, 1], [6, 7, 8])\n"
     ]
    }
   ],
   "source": [
    "def two_ele(mylist):\n",
    "    ls1=sorted(mylist)\n",
    "    ls1.reverse()\n",
    "    \n",
    "    \n",
    "    \n",
    "    ls3=[]\n",
    "    for index, num in enumerate(mylist):\n",
    "        \n",
    "        if index%2==0:\n",
    "            \n",
    "            ls3.append(num)\n",
    "    \n",
    "    print((ls1,ls3))\n",
    "    \n",
    "   \n",
    "    \n",
    "two_ele([6,1,7,9,8,1])\n",
    "\n",
    "\n",
    "    "
   ]
  },
  {
   "cell_type": "markdown",
   "metadata": {},
   "source": [
    "---\n",
    "\n",
    "### Challenge Problem: Write a function that returns the score for a word.  The score of the word is the sum of the scores of its letters. Each letter's score is equal to it's position in the alphabet.\n",
    "\n",
    "So, for example:\n",
    "\n",
    "* A = 1, B = 2, C = 3, D = 4, E = 5\n",
    "* abe = 8 = (1 + 2 + 5)\n",
    "\n",
    "\n",
    "_Hint: The string library has a property_ `ascii_lowercase` _that can save some typing here._\n"
   ]
  },
  {
   "cell_type": "code",
   "execution_count": 156,
   "metadata": {
    "collapsed": false
   },
   "outputs": [
    {
     "data": {
      "text/plain": [
       "210"
      ]
     },
     "execution_count": 156,
     "metadata": {},
     "output_type": "execute_result"
    }
   ],
   "source": [
    "name_list=['ab','cd','ef','gh','ij']\n",
    "def score(name):\n",
    "    score = 0\n",
    "    for i,j in enumerate(name_list):\n",
    "        for k in name:\n",
    "            score+=i+1\n",
    "    return score\n",
    "score('PythonFuctions')\n",
    "    "
   ]
  },
  {
   "cell_type": "code",
   "execution_count": 158,
   "metadata": {
    "collapsed": false
   },
   "outputs": [],
   "source": [
    "\n",
    "def word_score(word):\n",
    "   \n",
    "   if(not isinstance(word, str)):\n",
    "       print('please enter a string')\n",
    "       return TypeError\n",
    "   \n",
    "   if(not word.isalpha()):\n",
    "       print('only use alphabetic characters')\n",
    "       return TypeError\n",
    "   \n",
    "   import string\n",
    "   alpha = string.ascii_lowercase\n",
    "   \n",
    "   word = word.lower()\n",
    "   score = 0\n",
    "   for letter in word:\n",
    "       score += (alpha.index(letter) + 1)\n",
    "       \n",
    "   return score"
   ]
  },
  {
   "cell_type": "code",
   "execution_count": null,
   "metadata": {
    "collapsed": false
   },
   "outputs": [],
   "source": []
  },
  {
   "cell_type": "code",
   "execution_count": null,
   "metadata": {
    "collapsed": true
   },
   "outputs": [],
   "source": []
  }
 ],
 "metadata": {
  "anaconda-cloud": {},
  "kernelspec": {
   "display_name": "Python [py36]",
   "language": "python",
   "name": "Python [py36]"
  },
  "language_info": {
   "codemirror_mode": {
    "name": "ipython",
    "version": 3
   },
   "file_extension": ".py",
   "mimetype": "text/x-python",
   "name": "python",
   "nbconvert_exporter": "python",
   "pygments_lexer": "ipython3",
   "version": "3.6.1"
  }
 },
 "nbformat": 4,
 "nbformat_minor": 1
}
