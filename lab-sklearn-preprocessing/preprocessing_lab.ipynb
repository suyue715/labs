{
 "cells": [
  {
   "cell_type": "code",
   "execution_count": 64,
   "metadata": {
    "collapsed": true
   },
   "outputs": [],
   "source": [
    "import numpy as np\n",
    "import pandas as pd\n",
    "import matplotlib.pyplot as plt\n",
    "%matplotlib inline"
   ]
  },
  {
   "cell_type": "markdown",
   "metadata": {},
   "source": [
    "# Import the Data\n",
    "\n",
    "Import the data found in `datasets/inventory_by_county.csv`. This data comes from [realtor.com](https://research.realtor.com/data/inventory-trends/) and details housing information about the most active counties for housing stock in the US. \n",
    "\n",
    "After you import the data and run the following cell to create a \"state\" identifier: \n",
    "- take out the `Median Listing Price` as your target column.\n",
    "- use `train_test_split()` with a test size of `0.33` to create a training and test set for the features and your target column (`Median Listing Price`). You should have four objects at this point.\n",
    "- identify the number of rows and columns in all four of datasets (`train_x, train_y, test_x, test_y`)"
   ]
  },
  {
   "cell_type": "code",
   "execution_count": 143,
   "metadata": {
    "collapsed": false
   },
   "outputs": [
    {
     "data": {
      "text/html": [
       "<div>\n",
       "<style>\n",
       "    .dataframe thead tr:only-child th {\n",
       "        text-align: right;\n",
       "    }\n",
       "\n",
       "    .dataframe thead th {\n",
       "        text-align: left;\n",
       "    }\n",
       "\n",
       "    .dataframe tbody tr th {\n",
       "        vertical-align: top;\n",
       "    }\n",
       "</style>\n",
       "<table border=\"1\" class=\"dataframe\">\n",
       "  <thead>\n",
       "    <tr style=\"text-align: right;\">\n",
       "      <th></th>\n",
       "      <th>Month</th>\n",
       "      <th>CountyFIPS</th>\n",
       "      <th>CountyName</th>\n",
       "      <th>Nielsen Rank</th>\n",
       "      <th>Footnote</th>\n",
       "      <th>Median Listing Price</th>\n",
       "      <th>Median Listing Price M/M</th>\n",
       "      <th>Median Listing Price Y/Y</th>\n",
       "      <th>Active Listing Count</th>\n",
       "      <th>Active Listing Count M/M</th>\n",
       "      <th>...</th>\n",
       "      <th>Pending Listing Count Y/Y</th>\n",
       "      <th>Avg Listing Price</th>\n",
       "      <th>Avg Listing Price M/M</th>\n",
       "      <th>Avg Listing Price Y/Y</th>\n",
       "      <th>Total Listing Count</th>\n",
       "      <th>Total Listing Count M/M</th>\n",
       "      <th>Total Listing Count Y/Y</th>\n",
       "      <th>Pending Ratio</th>\n",
       "      <th>Pending Ratio M/M</th>\n",
       "      <th>Pending Ratio Y/Y</th>\n",
       "    </tr>\n",
       "  </thead>\n",
       "  <tbody>\n",
       "    <tr>\n",
       "      <th>0</th>\n",
       "      <td>2017-09-01</td>\n",
       "      <td>6037.0</td>\n",
       "      <td>Los Angeles, CA</td>\n",
       "      <td>1.0</td>\n",
       "      <td>NaN</td>\n",
       "      <td>649900.0</td>\n",
       "      <td>-0.0002</td>\n",
       "      <td>0.0398</td>\n",
       "      <td>16464.0</td>\n",
       "      <td>-0.0261</td>\n",
       "      <td>...</td>\n",
       "      <td>-0.2008</td>\n",
       "      <td>1377900.0</td>\n",
       "      <td>-0.0035</td>\n",
       "      <td>0.1149</td>\n",
       "      <td>19577.0</td>\n",
       "      <td>-0.0306</td>\n",
       "      <td>-0.1578</td>\n",
       "      <td>0.1891</td>\n",
       "      <td>-0.0055</td>\n",
       "      <td>-0.0122</td>\n",
       "    </tr>\n",
       "    <tr>\n",
       "      <th>1</th>\n",
       "      <td>2017-09-01</td>\n",
       "      <td>17031.0</td>\n",
       "      <td>Cook, IL</td>\n",
       "      <td>2.0</td>\n",
       "      <td>NaN</td>\n",
       "      <td>277000.0</td>\n",
       "      <td>-0.0072</td>\n",
       "      <td>0.0897</td>\n",
       "      <td>26510.0</td>\n",
       "      <td>-0.0142</td>\n",
       "      <td>...</td>\n",
       "      <td>-0.2012</td>\n",
       "      <td>428900.0</td>\n",
       "      <td>-0.0046</td>\n",
       "      <td>0.0701</td>\n",
       "      <td>29420.0</td>\n",
       "      <td>-0.0202</td>\n",
       "      <td>-0.0683</td>\n",
       "      <td>0.1098</td>\n",
       "      <td>-0.0067</td>\n",
       "      <td>-0.0207</td>\n",
       "    </tr>\n",
       "    <tr>\n",
       "      <th>2</th>\n",
       "      <td>2017-09-01</td>\n",
       "      <td>48201.0</td>\n",
       "      <td>Harris, TX</td>\n",
       "      <td>3.0</td>\n",
       "      <td>NaN</td>\n",
       "      <td>299000.0</td>\n",
       "      <td>0.0007</td>\n",
       "      <td>-0.0355</td>\n",
       "      <td>15472.0</td>\n",
       "      <td>-0.1020</td>\n",
       "      <td>...</td>\n",
       "      <td>-0.0535</td>\n",
       "      <td>446900.0</td>\n",
       "      <td>0.0182</td>\n",
       "      <td>-0.0225</td>\n",
       "      <td>21676.0</td>\n",
       "      <td>-0.0888</td>\n",
       "      <td>0.0114</td>\n",
       "      <td>0.4010</td>\n",
       "      <td>0.0204</td>\n",
       "      <td>-0.0397</td>\n",
       "    </tr>\n",
       "    <tr>\n",
       "      <th>3</th>\n",
       "      <td>2017-09-01</td>\n",
       "      <td>4013.0</td>\n",
       "      <td>Maricopa, AZ</td>\n",
       "      <td>4.0</td>\n",
       "      <td>NaN</td>\n",
       "      <td>329500.0</td>\n",
       "      <td>0.0015</td>\n",
       "      <td>0.0444</td>\n",
       "      <td>18421.0</td>\n",
       "      <td>0.0013</td>\n",
       "      <td>...</td>\n",
       "      <td>-0.2857</td>\n",
       "      <td>515200.0</td>\n",
       "      <td>0.0043</td>\n",
       "      <td>0.0658</td>\n",
       "      <td>18426.0</td>\n",
       "      <td>0.0013</td>\n",
       "      <td>-0.0860</td>\n",
       "      <td>0.0003</td>\n",
       "      <td>0.0000</td>\n",
       "      <td>-0.0001</td>\n",
       "    </tr>\n",
       "    <tr>\n",
       "      <th>4</th>\n",
       "      <td>2017-09-01</td>\n",
       "      <td>6073.0</td>\n",
       "      <td>San Diego, CA</td>\n",
       "      <td>5.0</td>\n",
       "      <td>NaN</td>\n",
       "      <td>660200.0</td>\n",
       "      <td>-0.0139</td>\n",
       "      <td>0.0541</td>\n",
       "      <td>6057.0</td>\n",
       "      <td>-0.0205</td>\n",
       "      <td>...</td>\n",
       "      <td>0.1176</td>\n",
       "      <td>1147100.0</td>\n",
       "      <td>-0.0126</td>\n",
       "      <td>0.0615</td>\n",
       "      <td>6076.0</td>\n",
       "      <td>-0.0224</td>\n",
       "      <td>-0.1880</td>\n",
       "      <td>0.0031</td>\n",
       "      <td>-0.0019</td>\n",
       "      <td>0.0009</td>\n",
       "    </tr>\n",
       "  </tbody>\n",
       "</table>\n",
       "<p>5 rows × 35 columns</p>\n",
       "</div>"
      ],
      "text/plain": [
       "        Month  CountyFIPS       CountyName  Nielsen Rank Footnote  \\\n",
       "0  2017-09-01      6037.0  Los Angeles, CA           1.0      NaN   \n",
       "1  2017-09-01     17031.0         Cook, IL           2.0      NaN   \n",
       "2  2017-09-01     48201.0       Harris, TX           3.0      NaN   \n",
       "3  2017-09-01      4013.0     Maricopa, AZ           4.0      NaN   \n",
       "4  2017-09-01      6073.0    San Diego, CA           5.0      NaN   \n",
       "\n",
       "   Median Listing Price  Median Listing Price M/M  Median Listing Price Y/Y  \\\n",
       "0              649900.0                   -0.0002                    0.0398   \n",
       "1              277000.0                   -0.0072                    0.0897   \n",
       "2              299000.0                    0.0007                   -0.0355   \n",
       "3              329500.0                    0.0015                    0.0444   \n",
       "4              660200.0                   -0.0139                    0.0541   \n",
       "\n",
       "   Active Listing Count   Active Listing Count M/M        ...          \\\n",
       "0                16464.0                   -0.0261        ...           \n",
       "1                26510.0                   -0.0142        ...           \n",
       "2                15472.0                   -0.1020        ...           \n",
       "3                18421.0                    0.0013        ...           \n",
       "4                 6057.0                   -0.0205        ...           \n",
       "\n",
       "   Pending Listing Count Y/Y  Avg Listing Price  Avg Listing Price M/M  \\\n",
       "0                    -0.2008          1377900.0                -0.0035   \n",
       "1                    -0.2012           428900.0                -0.0046   \n",
       "2                    -0.0535           446900.0                 0.0182   \n",
       "3                    -0.2857           515200.0                 0.0043   \n",
       "4                     0.1176          1147100.0                -0.0126   \n",
       "\n",
       "   Avg Listing Price Y/Y  Total Listing Count  Total Listing Count M/M  \\\n",
       "0                 0.1149              19577.0                  -0.0306   \n",
       "1                 0.0701              29420.0                  -0.0202   \n",
       "2                -0.0225              21676.0                  -0.0888   \n",
       "3                 0.0658              18426.0                   0.0013   \n",
       "4                 0.0615               6076.0                  -0.0224   \n",
       "\n",
       "   Total Listing Count Y/Y  Pending Ratio  Pending Ratio M/M  \\\n",
       "0                  -0.1578         0.1891            -0.0055   \n",
       "1                  -0.0683         0.1098            -0.0067   \n",
       "2                   0.0114         0.4010             0.0204   \n",
       "3                  -0.0860         0.0003             0.0000   \n",
       "4                  -0.1880         0.0031            -0.0019   \n",
       "\n",
       "   Pending Ratio Y/Y  \n",
       "0            -0.0122  \n",
       "1            -0.0207  \n",
       "2            -0.0397  \n",
       "3            -0.0001  \n",
       "4             0.0009  \n",
       "\n",
       "[5 rows x 35 columns]"
      ]
     },
     "execution_count": 143,
     "metadata": {},
     "output_type": "execute_result"
    }
   ],
   "source": [
    "df = pd.read_csv('datasets/inventory_by_county.csv')\n",
    "\n",
    "# The last line of the csv contains extra information for the reader but not valid data\n",
    "# We will remove that line and use the .copy() method\n",
    "# To create a copy of the DataFrame itself\n",
    "# Instead of referring to a slice or a mask of the original dataframe\n",
    "\n",
    "df = df.iloc[0:1000, :].copy()\n",
    "df.head()"
   ]
  },
  {
   "cell_type": "code",
   "execution_count": 144,
   "metadata": {
    "collapsed": false
   },
   "outputs": [
    {
     "data": {
      "text/plain": [
       "(1000, 1)"
      ]
     },
     "execution_count": 144,
     "metadata": {},
     "output_type": "execute_result"
    }
   ],
   "source": [
    "# continue here to extract Median Listing Price and to split the data using train_test_split()\n",
    "#reshape(-1, 1) \n",
    "#reshape command to coerce the array to have the maximum possible value (-1) \n",
    "#for the number of rows and 1 element per row.\n",
    "y=df['Median Listing Price'].values.reshape(-1, 1)\n",
    "y.shape"
   ]
  },
  {
   "cell_type": "code",
   "execution_count": 145,
   "metadata": {
    "collapsed": false
   },
   "outputs": [
    {
     "data": {
      "text/plain": [
       "35"
      ]
     },
     "execution_count": 145,
     "metadata": {},
     "output_type": "execute_result"
    }
   ],
   "source": [
    "len(df.columns)"
   ]
  },
  {
   "cell_type": "code",
   "execution_count": 146,
   "metadata": {
    "collapsed": true
   },
   "outputs": [],
   "source": [
    "X = df.drop('Median Listing Price',axis=1)"
   ]
  },
  {
   "cell_type": "code",
   "execution_count": 147,
   "metadata": {
    "collapsed": false
   },
   "outputs": [],
   "source": [
    "X=df[[col for col in df.columns if col != 'Median Listing Price']]"
   ]
  },
  {
   "cell_type": "code",
   "execution_count": 148,
   "metadata": {
    "collapsed": false
   },
   "outputs": [
    {
     "name": "stdout",
     "output_type": "stream",
     "text": [
      "(670, 34) (330, 34) (670, 1) (330, 1)\n"
     ]
    }
   ],
   "source": [
    "from sklearn.model_selection import train_test_split\n",
    "\n",
    "X_train, X_test, y_train, y_test=train_test_split(X,y,test_size=0.33)\n",
    "print(X_train.shape, X_test.shape, y_train.shape, y_test.shape)"
   ]
  },
  {
   "cell_type": "code",
   "execution_count": null,
   "metadata": {
    "collapsed": true
   },
   "outputs": [],
   "source": []
  },
  {
   "cell_type": "markdown",
   "metadata": {},
   "source": [
    "# Question 1\n",
    "\n",
    "Investigate the pattern of missing values in the dataset. What do you think should be done with those missing values? Is it appropriate to use `Imputer` to address any missing rows? Why or why not?"
   ]
  },
  {
   "cell_type": "code",
   "execution_count": 149,
   "metadata": {
    "collapsed": false
   },
   "outputs": [
    {
     "data": {
      "text/plain": [
       "Month                          0\n",
       "CountyFIPS                     0\n",
       "CountyName                     0\n",
       "Nielsen Rank                   0\n",
       "Footnote                     576\n",
       "Median Listing Price M/M       0\n",
       "Median Listing Price Y/Y       0\n",
       "Active Listing Count           0\n",
       "Active Listing Count M/M       0\n",
       "Active Listing Count Y/Y       0\n",
       "Days on Market                 0\n",
       "Days on Market M/M             0\n",
       "Days on Market Y/Y             0\n",
       "New Listing Count              0\n",
       "New Listing Count M/M          0\n",
       "New Listing Count Y/Y          0\n",
       "Price Increase Count           0\n",
       "Price Increase Count M/M     120\n",
       "Price Increase Count Y/Y     128\n",
       "Price Decrease Count           0\n",
       "Price Decrease Count M/M       0\n",
       "Price Decrease Count Y/Y       0\n",
       "Pending Listing Count          0\n",
       "Pending Listing Count M/M    127\n",
       "Pending Listing Count Y/Y    133\n",
       "Avg Listing Price              0\n",
       "Avg Listing Price M/M          0\n",
       "Avg Listing Price Y/Y          0\n",
       "Total Listing Count            0\n",
       "Total Listing Count M/M        0\n",
       "Total Listing Count Y/Y        0\n",
       "Pending Ratio                  0\n",
       "Pending Ratio M/M              0\n",
       "Pending Ratio Y/Y              0\n",
       "dtype: int64"
      ]
     },
     "execution_count": 149,
     "metadata": {},
     "output_type": "execute_result"
    }
   ],
   "source": [
    "# Convert this cell to markdown and write your answer here.\n",
    "X_train.isnull().sum()"
   ]
  },
  {
   "cell_type": "code",
   "execution_count": 150,
   "metadata": {
    "collapsed": true
   },
   "outputs": [],
   "source": [
    "from sklearn.preprocessing import Imputer"
   ]
  },
  {
   "cell_type": "code",
   "execution_count": 151,
   "metadata": {
    "collapsed": false
   },
   "outputs": [
    {
     "name": "stdout",
     "output_type": "stream",
     "text": [
      "<class 'pandas.core.frame.DataFrame'>\n",
      "Int64Index: 670 entries, 593 to 495\n",
      "Data columns (total 34 columns):\n",
      "Month                        670 non-null object\n",
      "CountyFIPS                   670 non-null float64\n",
      "CountyName                   670 non-null object\n",
      "Nielsen Rank                 670 non-null float64\n",
      "Footnote                     94 non-null object\n",
      "Median Listing Price M/M     670 non-null float64\n",
      "Median Listing Price Y/Y     670 non-null float64\n",
      "Active Listing Count         670 non-null float64\n",
      "Active Listing Count M/M     670 non-null float64\n",
      "Active Listing Count Y/Y     670 non-null float64\n",
      "Days on Market               670 non-null float64\n",
      "Days on Market M/M           670 non-null float64\n",
      "Days on Market Y/Y           670 non-null float64\n",
      "New Listing Count            670 non-null float64\n",
      "New Listing Count M/M        670 non-null float64\n",
      "New Listing Count Y/Y        670 non-null float64\n",
      "Price Increase Count         670 non-null float64\n",
      "Price Increase Count M/M     550 non-null float64\n",
      "Price Increase Count Y/Y     542 non-null float64\n",
      "Price Decrease Count         670 non-null float64\n",
      "Price Decrease Count M/M     670 non-null float64\n",
      "Price Decrease Count Y/Y     670 non-null float64\n",
      "Pending Listing Count        670 non-null float64\n",
      "Pending Listing Count M/M    543 non-null float64\n",
      "Pending Listing Count Y/Y    537 non-null float64\n",
      "Avg Listing Price            670 non-null float64\n",
      "Avg Listing Price M/M        670 non-null float64\n",
      "Avg Listing Price Y/Y        670 non-null float64\n",
      "Total Listing Count          670 non-null float64\n",
      "Total Listing Count M/M      670 non-null float64\n",
      "Total Listing Count Y/Y      670 non-null float64\n",
      "Pending Ratio                670 non-null float64\n",
      "Pending Ratio M/M            670 non-null float64\n",
      "Pending Ratio Y/Y            670 non-null float64\n",
      "dtypes: float64(31), object(3)\n",
      "memory usage: 183.2+ KB\n"
     ]
    }
   ],
   "source": [
    "X_train.info()"
   ]
  },
  {
   "cell_type": "code",
   "execution_count": 155,
   "metadata": {
    "collapsed": false
   },
   "outputs": [],
   "source": [
    "X_train = X_train.loc[:,[col for col in X_train.columns if col not in ['Footnote','CountyName','Month']]]"
   ]
  },
  {
   "cell_type": "code",
   "execution_count": 156,
   "metadata": {
    "collapsed": false
   },
   "outputs": [
    {
     "data": {
      "text/plain": [
       "Index(['CountyFIPS', 'Nielsen Rank', 'Median Listing Price M/M',\n",
       "       'Median Listing Price Y/Y', 'Active Listing Count ',\n",
       "       'Active Listing Count M/M', 'Active Listing Count Y/Y',\n",
       "       'Days on Market ', 'Days on Market M/M', 'Days on Market Y/Y',\n",
       "       'New Listing Count ', 'New Listing Count M/M', 'New Listing Count Y/Y',\n",
       "       'Price Increase Count ', 'Price Increase Count M/M',\n",
       "       'Price Increase Count Y/Y', 'Price Decrease Count ',\n",
       "       'Price Decrease Count M/M', 'Price Decrease Count Y/Y',\n",
       "       'Pending Listing Count ', 'Pending Listing Count M/M',\n",
       "       'Pending Listing Count Y/Y', 'Avg Listing Price',\n",
       "       'Avg Listing Price M/M', 'Avg Listing Price Y/Y', 'Total Listing Count',\n",
       "       'Total Listing Count M/M', 'Total Listing Count Y/Y', 'Pending Ratio',\n",
       "       'Pending Ratio M/M', 'Pending Ratio Y/Y'],\n",
       "      dtype='object')"
      ]
     },
     "execution_count": 156,
     "metadata": {},
     "output_type": "execute_result"
    }
   ],
   "source": [
    "X_train.columns"
   ]
  },
  {
   "cell_type": "code",
   "execution_count": 157,
   "metadata": {
    "collapsed": false
   },
   "outputs": [
    {
     "data": {
      "text/plain": [
       "Imputer(axis=0, copy=True, missing_values='NaN', strategy='median', verbose=0)"
      ]
     },
     "execution_count": 157,
     "metadata": {},
     "output_type": "execute_result"
    }
   ],
   "source": [
    "im = Imputer(strategy='median')\n",
    "im.fit(X_train)"
   ]
  },
  {
   "cell_type": "code",
   "execution_count": 158,
   "metadata": {
    "collapsed": true
   },
   "outputs": [],
   "source": [
    "X_train = pd.DataFrame(im.transform(X_train),columns = X_train.columns)"
   ]
  },
  {
   "cell_type": "code",
   "execution_count": 159,
   "metadata": {
    "collapsed": false
   },
   "outputs": [
    {
     "data": {
      "text/plain": [
       "array([  3.40060000e+04,   4.79500000e+02,  -2.00000000e-04,\n",
       "         6.72500000e-02,   7.20500000e+02,  -1.12000000e-02,\n",
       "        -9.56000000e-02,   7.10000000e+01,   5.98500000e-02,\n",
       "        -8.92500000e-02,   1.84000000e+02,  -1.01500000e-01,\n",
       "        -5.25000000e-03,   6.00000000e+00,  -1.38100000e-01,\n",
       "        -2.08500000e-02,   1.55000000e+02,  -5.40000000e-02,\n",
       "        -2.80000000e-02,   3.85000000e+01,  -5.59000000e-02,\n",
       "        -4.23000000e-02,   2.85550000e+05,   7.00000000e-04,\n",
       "         6.15500000e-02,   8.17500000e+02,  -1.64500000e-02,\n",
       "        -8.35500000e-02,   6.19500000e-02,  -5.00000000e-04,\n",
       "         2.50000000e-04])"
      ]
     },
     "execution_count": 159,
     "metadata": {},
     "output_type": "execute_result"
    }
   ],
   "source": [
    "im.statistics_"
   ]
  },
  {
   "cell_type": "code",
   "execution_count": 160,
   "metadata": {
    "collapsed": false
   },
   "outputs": [
    {
     "data": {
      "text/plain": [
       "CountyFIPS                   0\n",
       "Nielsen Rank                 0\n",
       "Median Listing Price M/M     0\n",
       "Median Listing Price Y/Y     0\n",
       "Active Listing Count         0\n",
       "Active Listing Count M/M     0\n",
       "Active Listing Count Y/Y     0\n",
       "Days on Market               0\n",
       "Days on Market M/M           0\n",
       "Days on Market Y/Y           0\n",
       "New Listing Count            0\n",
       "New Listing Count M/M        0\n",
       "New Listing Count Y/Y        0\n",
       "Price Increase Count         0\n",
       "Price Increase Count M/M     0\n",
       "Price Increase Count Y/Y     0\n",
       "Price Decrease Count         0\n",
       "Price Decrease Count M/M     0\n",
       "Price Decrease Count Y/Y     0\n",
       "Pending Listing Count        0\n",
       "Pending Listing Count M/M    0\n",
       "Pending Listing Count Y/Y    0\n",
       "Avg Listing Price            0\n",
       "Avg Listing Price M/M        0\n",
       "Avg Listing Price Y/Y        0\n",
       "Total Listing Count          0\n",
       "Total Listing Count M/M      0\n",
       "Total Listing Count Y/Y      0\n",
       "Pending Ratio                0\n",
       "Pending Ratio M/M            0\n",
       "Pending Ratio Y/Y            0\n",
       "dtype: int64"
      ]
     },
     "execution_count": 160,
     "metadata": {},
     "output_type": "execute_result"
    }
   ],
   "source": [
    "X_train.isnull().sum()"
   ]
  },
  {
   "cell_type": "markdown",
   "metadata": {},
   "source": [
    "# Question 2\n",
    "\n",
    "Use the `Active Listing Count ` feature and the `Binarizer` preprocessing object to create a dummy variable coded 1 if the count of active listings is above 10,000 units. Store the transformed data from the training set in a variable called `training_active_listing_dummy`"
   ]
  },
  {
   "cell_type": "code",
   "execution_count": 161,
   "metadata": {
    "collapsed": true
   },
   "outputs": [],
   "source": [
    "from sklearn.preprocessing import Binarizer, \\\n",
    "    OneHotEncoder, PolynomialFeatures, StandardScaler, \\\n",
    "    MinMaxScaler, RobustScaler"
   ]
  },
  {
   "cell_type": "code",
   "execution_count": 162,
   "metadata": {
    "collapsed": false
   },
   "outputs": [],
   "source": [
    "training_active_listing=Binarizer(10000)\n",
    "training_active_listing.fit(X_train['Active Listing Count '].values.reshape(-1,1))\n",
    "training_active_listing_dummy=training_active_listing.transform(\n",
    "    X_train['Active Listing Count '].values.reshape(-1,1))"
   ]
  },
  {
   "cell_type": "code",
   "execution_count": 163,
   "metadata": {
    "collapsed": false
   },
   "outputs": [
    {
     "name": "stdout",
     "output_type": "stream",
     "text": [
      "[[ 0.]\n",
      " [ 0.]\n",
      " [ 0.]\n",
      " [ 0.]\n",
      " [ 0.]] 0.00746268656716\n"
     ]
    }
   ],
   "source": [
    "print(training_active_listing_dummy[0:5],training_active_listing_dummy.mean())"
   ]
  },
  {
   "cell_type": "code",
   "execution_count": 164,
   "metadata": {
    "collapsed": false
   },
   "outputs": [
    {
     "data": {
      "text/plain": [
       "(670, 1)"
      ]
     },
     "execution_count": 164,
     "metadata": {},
     "output_type": "execute_result"
    }
   ],
   "source": [
    "training_active_listing_dummy.shape"
   ]
  },
  {
   "cell_type": "markdown",
   "metadata": {},
   "source": [
    "# Question 3\n",
    "\n",
    "The Pending Ratio of a county is the proportion of houses that are under contract to be sold, but have not been finalized yet. Your boss believes that the best way to model this is by including both the ratio and the $\\text{ratio}^2$ -- this would let us investigate a non-linear relationship. \n",
    "\n",
    "Use `PolynomialFeatures` to create a pending ratio and a $\\text{pending ratio}^2$ term. Do not include an intercept term. Save this 2-dimensional array in a variable called `training_pending_ratio`"
   ]
  },
  {
   "cell_type": "code",
   "execution_count": 165,
   "metadata": {
    "collapsed": false
   },
   "outputs": [
    {
     "name": "stdout",
     "output_type": "stream",
     "text": [
      "[[ 0.          0.        ]\n",
      " [ 0.097       0.009409  ]\n",
      " [ 0.044       0.001936  ]\n",
      " [ 0.0188      0.00035344]\n",
      " [ 0.          0.        ]]\n"
     ]
    }
   ],
   "source": [
    "poly_features = PolynomialFeatures(2, include_bias=False)\n",
    "poly_features.fit(X_train['Pending Ratio'].values.reshape(-1, 1))\n",
    "\n",
    "training_pending_ratio = poly_features.transform(\n",
    "    X_train['Pending Ratio'].values.reshape(-1, 1))\n",
    "\n",
    "print(training_pending_ratio[0:5, :])\n"
   ]
  },
  {
   "cell_type": "markdown",
   "metadata": {},
   "source": [
    "# Question 4\n",
    "\n",
    "Join the variables you have transformed in numpy. They should be the following:\n",
    "\n",
    "- `training_active_listing_dummy`\n",
    "- `training_pending_ratio`\n",
    "\n",
    "What is the shape of the new numpy array?"
   ]
  },
  {
   "cell_type": "code",
   "execution_count": 166,
   "metadata": {
    "collapsed": false
   },
   "outputs": [],
   "source": [
    "#X_train.append(training_active_listing_dummy)\n",
    "new_array = np.concatenate((training_active_listing_dummy,training_pending_ratio),axis=1)"
   ]
  },
  {
   "cell_type": "code",
   "execution_count": 167,
   "metadata": {
    "collapsed": false
   },
   "outputs": [
    {
     "data": {
      "text/plain": [
       "(670, 3)"
      ]
     },
     "execution_count": 167,
     "metadata": {},
     "output_type": "execute_result"
    }
   ],
   "source": [
    "new_array.shape"
   ]
  },
  {
   "cell_type": "code",
   "execution_count": 168,
   "metadata": {
    "collapsed": false
   },
   "outputs": [
    {
     "data": {
      "text/plain": [
       "(670, 1)"
      ]
     },
     "execution_count": 168,
     "metadata": {},
     "output_type": "execute_result"
    }
   ],
   "source": [
    "training_active_listing_dummy.shape"
   ]
  },
  {
   "cell_type": "code",
   "execution_count": 169,
   "metadata": {
    "collapsed": false
   },
   "outputs": [
    {
     "data": {
      "text/plain": [
       "(670, 2)"
      ]
     },
     "execution_count": 169,
     "metadata": {},
     "output_type": "execute_result"
    }
   ],
   "source": [
    "training_pending_ratio.shape"
   ]
  },
  {
   "cell_type": "markdown",
   "metadata": {},
   "source": [
    "# Question 5\n",
    "\n",
    "Instantiate a `LinearRegression` object and fit a model using the new training array above and the training target column you created when you imported the data. What is the $R^2$ score using the training data?"
   ]
  },
  {
   "cell_type": "code",
   "execution_count": 190,
   "metadata": {
    "collapsed": false
   },
   "outputs": [
    {
     "name": "stdout",
     "output_type": "stream",
     "text": [
      "0.0742310266243\n"
     ]
    }
   ],
   "source": [
    "from sklearn.linear_model import LinearRegression\n",
    "lr = LinearRegression()\n",
    "lr.fit(new_array, y_train)\n",
    "print(lr.score(new_array, y_train))"
   ]
  },
  {
   "cell_type": "code",
   "execution_count": 179,
   "metadata": {
    "collapsed": false
   },
   "outputs": [
    {
     "data": {
      "text/plain": [
       "array([[ 1.,  0.,  0., ...,  0.,  0.,  0.],\n",
       "       [ 1.,  0.,  0., ...,  0.,  0.,  0.],\n",
       "       [ 1.,  0.,  0., ...,  0.,  0.,  0.],\n",
       "       ..., \n",
       "       [ 1.,  0.,  0., ...,  0.,  0.,  0.],\n",
       "       [ 1.,  0.,  0., ...,  0.,  0.,  0.],\n",
       "       [ 1.,  0.,  0., ...,  0.,  0.,  0.]])"
      ]
     },
     "execution_count": 179,
     "metadata": {},
     "output_type": "execute_result"
    }
   ],
   "source": [
    "training_active_listing.transform(X_test)"
   ]
  },
  {
   "cell_type": "markdown",
   "metadata": {},
   "source": [
    "# Question 6\n",
    "\n",
    "Using the fit objects that you created in questions 2, 3, and 4, do the following:\n",
    "\n",
    "1. Transform the holdout (test) data that you created when you imported the data\n",
    "2. Use numpy to join the transformed holdout (test) data. \n",
    "3. Score your fit `LinearRegression` object using the new holdout data. What happens to your $R^2$ value?"
   ]
  },
  {
   "cell_type": "code",
   "execution_count": 172,
   "metadata": {
    "collapsed": true
   },
   "outputs": [],
   "source": [
    "X_test = X_test.loc[:,[col for col in X_test.columns if col not in ['Footnote','CountyName','Month']]]"
   ]
  },
  {
   "cell_type": "code",
   "execution_count": 173,
   "metadata": {
    "collapsed": false
   },
   "outputs": [
    {
     "data": {
      "text/plain": [
       "Index(['CountyFIPS', 'Nielsen Rank', 'Median Listing Price M/M',\n",
       "       'Median Listing Price Y/Y', 'Active Listing Count ',\n",
       "       'Active Listing Count M/M', 'Active Listing Count Y/Y',\n",
       "       'Days on Market ', 'Days on Market M/M', 'Days on Market Y/Y',\n",
       "       'New Listing Count ', 'New Listing Count M/M', 'New Listing Count Y/Y',\n",
       "       'Price Increase Count ', 'Price Increase Count M/M',\n",
       "       'Price Increase Count Y/Y', 'Price Decrease Count ',\n",
       "       'Price Decrease Count M/M', 'Price Decrease Count Y/Y',\n",
       "       'Pending Listing Count ', 'Pending Listing Count M/M',\n",
       "       'Pending Listing Count Y/Y', 'Avg Listing Price',\n",
       "       'Avg Listing Price M/M', 'Avg Listing Price Y/Y', 'Total Listing Count',\n",
       "       'Total Listing Count M/M', 'Total Listing Count Y/Y', 'Pending Ratio',\n",
       "       'Pending Ratio M/M', 'Pending Ratio Y/Y'],\n",
       "      dtype='object')"
      ]
     },
     "execution_count": 173,
     "metadata": {},
     "output_type": "execute_result"
    }
   ],
   "source": [
    "X_test.columns"
   ]
  },
  {
   "cell_type": "code",
   "execution_count": 177,
   "metadata": {
    "collapsed": false
   },
   "outputs": [],
   "source": [
    "X_test = pd.DataFrame(im.transform(X_test),columns=X_train.columns)"
   ]
  },
  {
   "cell_type": "code",
   "execution_count": 178,
   "metadata": {
    "collapsed": false
   },
   "outputs": [
    {
     "data": {
      "text/html": [
       "<div>\n",
       "<style>\n",
       "    .dataframe thead tr:only-child th {\n",
       "        text-align: right;\n",
       "    }\n",
       "\n",
       "    .dataframe thead th {\n",
       "        text-align: left;\n",
       "    }\n",
       "\n",
       "    .dataframe tbody tr th {\n",
       "        vertical-align: top;\n",
       "    }\n",
       "</style>\n",
       "<table border=\"1\" class=\"dataframe\">\n",
       "  <thead>\n",
       "    <tr style=\"text-align: right;\">\n",
       "      <th></th>\n",
       "      <th>CountyFIPS</th>\n",
       "      <th>Nielsen Rank</th>\n",
       "      <th>Median Listing Price M/M</th>\n",
       "      <th>Median Listing Price Y/Y</th>\n",
       "      <th>Active Listing Count</th>\n",
       "      <th>Active Listing Count M/M</th>\n",
       "      <th>Active Listing Count Y/Y</th>\n",
       "      <th>Days on Market</th>\n",
       "      <th>Days on Market M/M</th>\n",
       "      <th>Days on Market Y/Y</th>\n",
       "      <th>...</th>\n",
       "      <th>Pending Listing Count Y/Y</th>\n",
       "      <th>Avg Listing Price</th>\n",
       "      <th>Avg Listing Price M/M</th>\n",
       "      <th>Avg Listing Price Y/Y</th>\n",
       "      <th>Total Listing Count</th>\n",
       "      <th>Total Listing Count M/M</th>\n",
       "      <th>Total Listing Count Y/Y</th>\n",
       "      <th>Pending Ratio</th>\n",
       "      <th>Pending Ratio M/M</th>\n",
       "      <th>Pending Ratio Y/Y</th>\n",
       "    </tr>\n",
       "  </thead>\n",
       "  <tbody>\n",
       "    <tr>\n",
       "      <th>0</th>\n",
       "      <td>47155.0</td>\n",
       "      <td>608.0</td>\n",
       "      <td>0.0004</td>\n",
       "      <td>0.1116</td>\n",
       "      <td>1862.0</td>\n",
       "      <td>-0.0090</td>\n",
       "      <td>-0.2242</td>\n",
       "      <td>93.0</td>\n",
       "      <td>0.0220</td>\n",
       "      <td>-0.1842</td>\n",
       "      <td>...</td>\n",
       "      <td>-0.0726</td>\n",
       "      <td>321500.0</td>\n",
       "      <td>0.0126</td>\n",
       "      <td>0.1222</td>\n",
       "      <td>2079.0</td>\n",
       "      <td>-0.0048</td>\n",
       "      <td>-0.2107</td>\n",
       "      <td>0.1165</td>\n",
       "      <td>0.0048</td>\n",
       "      <td>0.0190</td>\n",
       "    </tr>\n",
       "    <tr>\n",
       "      <th>1</th>\n",
       "      <td>27035.0</td>\n",
       "      <td>772.0</td>\n",
       "      <td>-0.0104</td>\n",
       "      <td>0.1023</td>\n",
       "      <td>766.0</td>\n",
       "      <td>-0.0316</td>\n",
       "      <td>-0.0870</td>\n",
       "      <td>92.0</td>\n",
       "      <td>0.0952</td>\n",
       "      <td>-0.0707</td>\n",
       "      <td>...</td>\n",
       "      <td>0.0921</td>\n",
       "      <td>417900.0</td>\n",
       "      <td>0.0034</td>\n",
       "      <td>0.1219</td>\n",
       "      <td>932.0</td>\n",
       "      <td>-0.0557</td>\n",
       "      <td>-0.0595</td>\n",
       "      <td>0.2167</td>\n",
       "      <td>-0.0311</td>\n",
       "      <td>0.0355</td>\n",
       "    </tr>\n",
       "    <tr>\n",
       "      <th>2</th>\n",
       "      <td>56025.0</td>\n",
       "      <td>659.0</td>\n",
       "      <td>0.0048</td>\n",
       "      <td>-0.0026</td>\n",
       "      <td>565.0</td>\n",
       "      <td>-0.0325</td>\n",
       "      <td>0.0762</td>\n",
       "      <td>63.0</td>\n",
       "      <td>0.1250</td>\n",
       "      <td>-0.1250</td>\n",
       "      <td>...</td>\n",
       "      <td>-0.0423</td>\n",
       "      <td>269200.0</td>\n",
       "      <td>-0.0033</td>\n",
       "      <td>0.0011</td>\n",
       "      <td>565.0</td>\n",
       "      <td>-0.0325</td>\n",
       "      <td>0.0762</td>\n",
       "      <td>0.0000</td>\n",
       "      <td>0.0000</td>\n",
       "      <td>0.0000</td>\n",
       "    </tr>\n",
       "    <tr>\n",
       "      <th>3</th>\n",
       "      <td>22101.0</td>\n",
       "      <td>939.0</td>\n",
       "      <td>0.0013</td>\n",
       "      <td>0.0445</td>\n",
       "      <td>175.0</td>\n",
       "      <td>-0.0057</td>\n",
       "      <td>0.7327</td>\n",
       "      <td>105.0</td>\n",
       "      <td>0.1932</td>\n",
       "      <td>-0.2045</td>\n",
       "      <td>...</td>\n",
       "      <td>0.3333</td>\n",
       "      <td>196400.0</td>\n",
       "      <td>-0.0150</td>\n",
       "      <td>-0.1052</td>\n",
       "      <td>187.0</td>\n",
       "      <td>-0.0260</td>\n",
       "      <td>0.7000</td>\n",
       "      <td>0.0686</td>\n",
       "      <td>-0.0223</td>\n",
       "      <td>-0.0205</td>\n",
       "    </tr>\n",
       "    <tr>\n",
       "      <th>4</th>\n",
       "      <td>25017.0</td>\n",
       "      <td>22.0</td>\n",
       "      <td>0.0079</td>\n",
       "      <td>0.0681</td>\n",
       "      <td>2966.0</td>\n",
       "      <td>0.0669</td>\n",
       "      <td>-0.1345</td>\n",
       "      <td>40.0</td>\n",
       "      <td>-0.1111</td>\n",
       "      <td>-0.1837</td>\n",
       "      <td>...</td>\n",
       "      <td>-0.0423</td>\n",
       "      <td>876600.0</td>\n",
       "      <td>0.0099</td>\n",
       "      <td>0.0828</td>\n",
       "      <td>2967.0</td>\n",
       "      <td>0.0669</td>\n",
       "      <td>-0.1342</td>\n",
       "      <td>0.0003</td>\n",
       "      <td>0.0000</td>\n",
       "      <td>0.0003</td>\n",
       "    </tr>\n",
       "  </tbody>\n",
       "</table>\n",
       "<p>5 rows × 31 columns</p>\n",
       "</div>"
      ],
      "text/plain": [
       "   CountyFIPS  Nielsen Rank  Median Listing Price M/M  \\\n",
       "0     47155.0         608.0                    0.0004   \n",
       "1     27035.0         772.0                   -0.0104   \n",
       "2     56025.0         659.0                    0.0048   \n",
       "3     22101.0         939.0                    0.0013   \n",
       "4     25017.0          22.0                    0.0079   \n",
       "\n",
       "   Median Listing Price Y/Y  Active Listing Count   Active Listing Count M/M  \\\n",
       "0                    0.1116                 1862.0                   -0.0090   \n",
       "1                    0.1023                  766.0                   -0.0316   \n",
       "2                   -0.0026                  565.0                   -0.0325   \n",
       "3                    0.0445                  175.0                   -0.0057   \n",
       "4                    0.0681                 2966.0                    0.0669   \n",
       "\n",
       "   Active Listing Count Y/Y  Days on Market   Days on Market M/M  \\\n",
       "0                   -0.2242             93.0              0.0220   \n",
       "1                   -0.0870             92.0              0.0952   \n",
       "2                    0.0762             63.0              0.1250   \n",
       "3                    0.7327            105.0              0.1932   \n",
       "4                   -0.1345             40.0             -0.1111   \n",
       "\n",
       "   Days on Market Y/Y        ...          Pending Listing Count Y/Y  \\\n",
       "0             -0.1842        ...                            -0.0726   \n",
       "1             -0.0707        ...                             0.0921   \n",
       "2             -0.1250        ...                            -0.0423   \n",
       "3             -0.2045        ...                             0.3333   \n",
       "4             -0.1837        ...                            -0.0423   \n",
       "\n",
       "   Avg Listing Price  Avg Listing Price M/M  Avg Listing Price Y/Y  \\\n",
       "0           321500.0                 0.0126                 0.1222   \n",
       "1           417900.0                 0.0034                 0.1219   \n",
       "2           269200.0                -0.0033                 0.0011   \n",
       "3           196400.0                -0.0150                -0.1052   \n",
       "4           876600.0                 0.0099                 0.0828   \n",
       "\n",
       "   Total Listing Count  Total Listing Count M/M  Total Listing Count Y/Y  \\\n",
       "0               2079.0                  -0.0048                  -0.2107   \n",
       "1                932.0                  -0.0557                  -0.0595   \n",
       "2                565.0                  -0.0325                   0.0762   \n",
       "3                187.0                  -0.0260                   0.7000   \n",
       "4               2967.0                   0.0669                  -0.1342   \n",
       "\n",
       "   Pending Ratio  Pending Ratio M/M  Pending Ratio Y/Y  \n",
       "0         0.1165             0.0048             0.0190  \n",
       "1         0.2167            -0.0311             0.0355  \n",
       "2         0.0000             0.0000             0.0000  \n",
       "3         0.0686            -0.0223            -0.0205  \n",
       "4         0.0003             0.0000             0.0003  \n",
       "\n",
       "[5 rows x 31 columns]"
      ]
     },
     "execution_count": 178,
     "metadata": {},
     "output_type": "execute_result"
    }
   ],
   "source": [
    "X_test.head()"
   ]
  },
  {
   "cell_type": "code",
   "execution_count": 180,
   "metadata": {
    "collapsed": true
   },
   "outputs": [],
   "source": [
    "testing_active_listing=Binarizer(10000)\n",
    "testing_active_listing.fit(X_test['Active Listing Count '].values.reshape(-1,1))\n",
    "testing_active_listing_dummy=testing_active_listing.transform(\n",
    "    X_test['Active Listing Count '].values.reshape(-1,1))"
   ]
  },
  {
   "cell_type": "code",
   "execution_count": 181,
   "metadata": {
    "collapsed": false
   },
   "outputs": [
    {
     "name": "stdout",
     "output_type": "stream",
     "text": [
      "[[ 0.]\n",
      " [ 0.]\n",
      " [ 0.]\n",
      " [ 0.]\n",
      " [ 0.]] 0.00909090909091\n"
     ]
    }
   ],
   "source": [
    "print(testing_active_listing_dummy[0:5],testing_active_listing_dummy.mean())"
   ]
  },
  {
   "cell_type": "code",
   "execution_count": 184,
   "metadata": {
    "collapsed": false
   },
   "outputs": [
    {
     "name": "stdout",
     "output_type": "stream",
     "text": [
      "[[  1.16500000e-01   1.35722500e-02]\n",
      " [  2.16700000e-01   4.69588900e-02]\n",
      " [  0.00000000e+00   0.00000000e+00]\n",
      " [  6.86000000e-02   4.70596000e-03]\n",
      " [  3.00000000e-04   9.00000000e-08]]\n"
     ]
    }
   ],
   "source": [
    "poly_features = PolynomialFeatures(2, include_bias=False)\n",
    "poly_features.fit(X_test['Pending Ratio'].values.reshape(-1, 1))\n",
    "\n",
    "test_pending_ratio = poly_features.transform(\n",
    "    X_test['Pending Ratio'].values.reshape(-1, 1))\n",
    "\n",
    "print(test_pending_ratio[0:5, :])"
   ]
  },
  {
   "cell_type": "code",
   "execution_count": 193,
   "metadata": {
    "collapsed": true
   },
   "outputs": [],
   "source": [
    "testing_array = np.concatenate((testing_active_listing_dummy,test_pending_ratio),axis=1)"
   ]
  },
  {
   "cell_type": "code",
   "execution_count": 194,
   "metadata": {
    "collapsed": false
   },
   "outputs": [
    {
     "data": {
      "text/plain": [
       "(330, 3)"
      ]
     },
     "execution_count": 194,
     "metadata": {},
     "output_type": "execute_result"
    }
   ],
   "source": [
    "testing_array.shape"
   ]
  },
  {
   "cell_type": "code",
   "execution_count": 195,
   "metadata": {
    "collapsed": false
   },
   "outputs": [
    {
     "data": {
      "text/plain": [
       "(330, 1)"
      ]
     },
     "execution_count": 195,
     "metadata": {},
     "output_type": "execute_result"
    }
   ],
   "source": [
    "y_test.shape"
   ]
  },
  {
   "cell_type": "code",
   "execution_count": 198,
   "metadata": {
    "collapsed": false
   },
   "outputs": [
    {
     "name": "stdout",
     "output_type": "stream",
     "text": [
      "0.0564179928799\n"
     ]
    }
   ],
   "source": [
    "\n",
    "print(lr.score(testing_array, y_test))"
   ]
  },
  {
   "cell_type": "markdown",
   "metadata": {},
   "source": [
    "# Bonus: Question 7\n",
    "\n",
    "This question will require external research!\n",
    "\n",
    "Import `StandardScaler` and answer the following questions:\n",
    "\n",
    "1. Scale the training data and refit the linear regression. Does your $R^2$ change? Why or why not?\n",
    "2. Compare the coefficients in your linear regression between the standardized and the unstandardized versions. What is the difference? How do you interpret the coefficients in each case?\n",
    "3. Standardize your test data and look at the $R^2$ score between the standardized and unstandardized versions of your model. Is there a difference? Why or why not?"
   ]
  },
  {
   "cell_type": "code",
   "execution_count": null,
   "metadata": {
    "collapsed": true
   },
   "outputs": [],
   "source": []
  },
  {
   "cell_type": "markdown",
   "metadata": {},
   "source": [
    "# Bonus: Question 8\n",
    "\n",
    "This question is open-ended!\n",
    "\n",
    "1. Use the remaining columns in the data. Use different features and transformations to create a model with the highest $R^2$ **in the training set** that you can. Compare the differences in feature extraction, etc. using cross-validation (`cross_val_score` or `KFolds`). Do not worry about using the preprocessing library at this point.\n",
    "2. Apply these same transformations to the test dataset. How does the model score now?\n",
    "3. Once you are satisfied with your model, refactor your code where appropriate to use sklearn preprocessing libraries. "
   ]
  },
  {
   "cell_type": "code",
   "execution_count": null,
   "metadata": {
    "collapsed": true
   },
   "outputs": [],
   "source": []
  }
 ],
 "metadata": {
  "kernelspec": {
   "display_name": "Python [py36]",
   "language": "python",
   "name": "Python [py36]"
  },
  "language_info": {
   "codemirror_mode": {
    "name": "ipython",
    "version": 3
   },
   "file_extension": ".py",
   "mimetype": "text/x-python",
   "name": "python",
   "nbconvert_exporter": "python",
   "pygments_lexer": "ipython3",
   "version": "3.6.1"
  }
 },
 "nbformat": 4,
 "nbformat_minor": 2
}
